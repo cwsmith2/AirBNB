{
 "cells": [
  {
   "cell_type": "markdown",
   "id": "a55b642c-2216-4cd8-9de6-ebdbb1bbe4fa",
   "metadata": {},
   "source": [
    "# Airbnb Seattle Data Analysis\n",
    "\n",
    "## Introduction\n",
    "This notebook provides exploratory data analysis (EDA) and insights into Seattle's Airbnb data.\n",
    "The goal of this project is to uncover patterns and trends in Airbnb listings, such as factors influencing prices, seasonal availability, and the impact of customer reviews.\n",
    "By analyzing these datasets, stakeholders such as hosts, guests, and policymakers can make informed decisions.\n",
    "\n",
    "## Key Objectives:\n",
    "- Understand what factors contribute to listing prices.\n",
    "- Explore seasonal trends and their influence on availability.\n",
    "- Evaluate how customer reviews and ratings impact a listing's success.\n",
    "\n",
    "The data for this analysis includes information about listings, calendar availability, and customer reviews, offering a comprehensive view of the Airbnb market in Seattle.\n"
   ]
  },
  {
   "cell_type": "markdown",
   "id": "758f59f6-4dfd-44f3-a6ed-1f5f626b07b4",
   "metadata": {
    "jp-MarkdownHeadingCollapsed": true
   },
   "source": [
    "## Step 1: Inspect, Clean, and Save the Dataset"
   ]
  },
  {
   "cell_type": "code",
   "execution_count": null,
   "id": "3ded70b7-b777-4e3e-b0c6-989c790a4b5b",
   "metadata": {},
   "outputs": [],
   "source": [
    "## Installation\n",
    "To install the required dependencies, run:\n",
    "```bash\n",
    "pip install -r requirements.txt"
   ]
  },
  {
   "cell_type": "markdown",
   "id": "60c30d68-03be-4772-83cb-c6e66721bc75",
   "metadata": {},
   "source": [
    "### Import necessary libraries"
   ]
  },
  {
   "cell_type": "code",
   "execution_count": 1,
   "id": "aece2386-eba0-4642-b74e-fab5facc42c4",
   "metadata": {},
   "outputs": [
    {
     "ename": "ModuleNotFoundError",
     "evalue": "No module named 'matplotlib'",
     "output_type": "error",
     "traceback": [
      "\u001b[1;31m---------------------------------------------------------------------------\u001b[0m",
      "\u001b[1;31mModuleNotFoundError\u001b[0m                       Traceback (most recent call last)",
      "Cell \u001b[1;32mIn[1], line 3\u001b[0m\n\u001b[0;32m      1\u001b[0m \u001b[38;5;28;01mimport\u001b[39;00m \u001b[38;5;21;01mpandas\u001b[39;00m \u001b[38;5;28;01mas\u001b[39;00m \u001b[38;5;21;01mpd\u001b[39;00m\n\u001b[0;32m      2\u001b[0m \u001b[38;5;28;01mimport\u001b[39;00m \u001b[38;5;21;01mnumpy\u001b[39;00m \u001b[38;5;28;01mas\u001b[39;00m \u001b[38;5;21;01mnp\u001b[39;00m\n\u001b[1;32m----> 3\u001b[0m \u001b[38;5;28;01mimport\u001b[39;00m \u001b[38;5;21;01mmatplotlib\u001b[39;00m\u001b[38;5;21;01m.\u001b[39;00m\u001b[38;5;21;01mpyplot\u001b[39;00m \u001b[38;5;28;01mas\u001b[39;00m \u001b[38;5;21;01mplt\u001b[39;00m\n\u001b[0;32m      4\u001b[0m \u001b[38;5;28;01mimport\u001b[39;00m \u001b[38;5;21;01mseaborn\u001b[39;00m \u001b[38;5;28;01mas\u001b[39;00m \u001b[38;5;21;01msns\u001b[39;00m\n\u001b[0;32m      5\u001b[0m get_ipython()\u001b[38;5;241m.\u001b[39mrun_line_magic(\u001b[38;5;124m'\u001b[39m\u001b[38;5;124mmatplotlib\u001b[39m\u001b[38;5;124m'\u001b[39m, \u001b[38;5;124m'\u001b[39m\u001b[38;5;124minline\u001b[39m\u001b[38;5;124m'\u001b[39m)\n",
      "\u001b[1;31mModuleNotFoundError\u001b[0m: No module named 'matplotlib'"
     ]
    }
   ],
   "source": [
    "import pandas as pd\n",
    "import numpy as np\n",
    "import matplotlib.pyplot as plt\n",
    "import seaborn as sns\n",
    "%matplotlib inline"
   ]
  },
  {
   "cell_type": "markdown",
   "id": "1ec19241-8444-439c-92e1-03971e41305f",
   "metadata": {},
   "source": [
    "### Load the datasets"
   ]
  },
  {
   "cell_type": "code",
   "execution_count": null,
   "id": "7267d1d5-1351-42d0-bced-392d145a75b6",
   "metadata": {},
   "outputs": [],
   "source": [
    "listings_path = 'listings.csv'\n",
    "calendar_path = 'calendar.csv'\n",
    "reviews_path = 'reviews.csv'"
   ]
  },
  {
   "cell_type": "markdown",
   "id": "c679dab0-0211-422f-a36c-2117bb0c9ef4",
   "metadata": {},
   "source": [
    "### Load the data"
   ]
  },
  {
   "cell_type": "code",
   "execution_count": null,
   "id": "570a80e1-2776-4af3-acba-af3922ea99e0",
   "metadata": {},
   "outputs": [],
   "source": [
    "listings = pd.read_csv(listings_path)\n",
    "calendar = pd.read_csv(calendar_path)\n",
    "reviews = pd.read_csv(reviews_path)"
   ]
  },
  {
   "cell_type": "markdown",
   "id": "38f05cf0-01c0-4d54-8dbe-1a3aed70da3c",
   "metadata": {},
   "source": [
    "### Inspect Listings Dataset"
   ]
  },
  {
   "cell_type": "code",
   "execution_count": null,
   "id": "cea10128-700a-4fea-90ba-934999ab0c29",
   "metadata": {},
   "outputs": [],
   "source": [
    "print(\"Listings Dataset Info:\")\n",
    "listings.info()\n",
    "print(\"\\nListings Dataset Sample:\")\n",
    "print(listings.head())"
   ]
  },
  {
   "cell_type": "markdown",
   "id": "b58b29da-31e3-4e20-9f4d-01d72e6fd371",
   "metadata": {},
   "source": [
    "### Clean Listings Dataset"
   ]
  },
  {
   "cell_type": "code",
   "execution_count": null,
   "id": "5b242b7e-43a1-49b1-8cad-162a311b16bc",
   "metadata": {},
   "outputs": [],
   "source": [
    "listings['price'] = listings['price'].replace('[\\$,]', '', regex=True).astype(float)\n",
    "listings['cleaning_fee'] = listings['cleaning_fee'].replace('[\\$,]', '', regex=True).astype(float)\n",
    "listings['security_deposit'] = listings['security_deposit'].replace('[\\$,]', '', regex=True).astype(float)\n",
    "listings.dropna(subset=['price', 'bedrooms', 'bathrooms', 'accommodates'], inplace=True)"
   ]
  },
  {
   "cell_type": "markdown",
   "id": "41b25b11-16d9-439b-aa99-caf80a8ed64b",
   "metadata": {},
   "source": [
    "### Save cleaned listings dataset"
   ]
  },
  {
   "cell_type": "code",
   "execution_count": null,
   "id": "c49a7983-f0eb-4ae3-9d31-18faecb36068",
   "metadata": {},
   "outputs": [],
   "source": [
    "listings.to_csv('listings_cleaned.csv', index=False)\n",
    "print(\"Cleaned listings dataset saved.\")"
   ]
  },
  {
   "cell_type": "markdown",
   "id": "4a108aae-6861-478e-b716-ed1c382375fa",
   "metadata": {},
   "source": [
    "### Inspect Calendar Dataset"
   ]
  },
  {
   "cell_type": "code",
   "execution_count": null,
   "id": "6a65ba46-557c-4916-b42f-77f21e7e2bbf",
   "metadata": {},
   "outputs": [],
   "source": [
    "print(\"\\nCalendar Dataset Info:\")\n",
    "calendar.info()\n",
    "print(\"\\nCalendar Dataset Sample:\")\n",
    "print(calendar.head())"
   ]
  },
  {
   "cell_type": "markdown",
   "id": "db78818e-9ae0-49ee-aacd-e8ab51738575",
   "metadata": {},
   "source": [
    "### Clean Calendar Dataset"
   ]
  },
  {
   "cell_type": "code",
   "execution_count": null,
   "id": "4e9b1778-8d1e-4997-b50d-f02300527792",
   "metadata": {},
   "outputs": [],
   "source": [
    "calendar['price'] = calendar['price'].replace('[\\$,]', '', regex=True).astype(float)\n",
    "calendar['available'] = calendar['available'].map({'t': True, 'f': False})"
   ]
  },
  {
   "cell_type": "markdown",
   "id": "299cd8a9-8f9d-4cfd-b86c-2a7310c5ce8d",
   "metadata": {},
   "source": [
    "### Save cleaned calendar dataset"
   ]
  },
  {
   "cell_type": "code",
   "execution_count": null,
   "id": "721195f9-be26-473a-87ea-3412947f36b6",
   "metadata": {},
   "outputs": [],
   "source": [
    "calendar.to_csv('calendar_cleaned.csv', index=False)\n",
    "print(\"Cleaned calendar dataset saved.\")"
   ]
  },
  {
   "cell_type": "markdown",
   "id": "9285fa83-842f-494b-9967-e60de64c766d",
   "metadata": {},
   "source": [
    "### Inspect Reviews Dataset"
   ]
  },
  {
   "cell_type": "code",
   "execution_count": null,
   "id": "f7c7f2d8-cf6b-4a47-9b25-c3162c91158f",
   "metadata": {},
   "outputs": [],
   "source": [
    "print(\"\\nReviews Dataset Info:\")\n",
    "reviews.info()\n",
    "print(\"\\nReviews Dataset Sample:\")\n",
    "print(reviews.head())"
   ]
  },
  {
   "cell_type": "markdown",
   "id": "aa225cb6-3ea6-41ff-ba16-4c57d2e5c17a",
   "metadata": {},
   "source": [
    "### Clean Reviews Dataset"
   ]
  },
  {
   "cell_type": "code",
   "execution_count": null,
   "id": "511c2663-027e-47a8-a87b-663d1f19dfcf",
   "metadata": {},
   "outputs": [],
   "source": [
    "reviews.dropna(subset=['comments'], inplace=True)"
   ]
  },
  {
   "cell_type": "markdown",
   "id": "4b69ac8d-5d57-4062-b2b5-f808cc9fc255",
   "metadata": {},
   "source": [
    "### Save cleaned reviews dataset"
   ]
  },
  {
   "cell_type": "code",
   "execution_count": null,
   "id": "88d1764c-5ebe-4dc6-a920-3a5bf9ced23b",
   "metadata": {},
   "outputs": [],
   "source": [
    "reviews.to_csv('reviews_cleaned.csv', index=False)\n",
    "print(\"Cleaned reviews dataset saved.\")"
   ]
  },
  {
   "cell_type": "markdown",
   "id": "1449b2da-8364-48da-b001-de9de3dbb978",
   "metadata": {
    "jp-MarkdownHeadingCollapsed": true
   },
   "source": [
    "## Step 2: Exploratory Data Analysis (EDA)"
   ]
  },
  {
   "cell_type": "code",
   "execution_count": null,
   "id": "52f22e15-4be9-48fc-9dcd-d3d33e29c63a",
   "metadata": {},
   "outputs": [],
   "source": []
  },
  {
   "cell_type": "markdown",
   "id": "cf09ae0f-14e0-4ddd-b245-260f24f71ea8",
   "metadata": {},
   "source": [
    "### Load cleaned datasets"
   ]
  },
  {
   "cell_type": "code",
   "execution_count": null,
   "id": "8f0c491d-7210-4fed-938f-9173abccf483",
   "metadata": {},
   "outputs": [],
   "source": [
    "listings = pd.read_csv('listings_cleaned.csv')\n",
    "calendar = pd.read_csv('calendar_cleaned.csv')\n",
    "reviews = pd.read_csv('reviews_cleaned.csv')"
   ]
  },
  {
   "cell_type": "markdown",
   "id": "ef22f615-1a51-4ab9-b66b-c5e1f3b181ab",
   "metadata": {},
   "source": [
    "### Listings Dataset EDA"
   ]
  },
  {
   "cell_type": "code",
   "execution_count": null,
   "id": "52405c85-ffbe-4de3-9a7d-adfa8a1dc8d0",
   "metadata": {},
   "outputs": [],
   "source": [
    "print(\"Listings Dataset Summary:\")\n",
    "listings.describe()\n",
    "\n",
    "print(\"\\nListings Dataset Column Types:\")\n",
    "listings.dtypes"
   ]
  },
  {
   "cell_type": "code",
   "execution_count": null,
   "id": "d08c3244-a08b-423e-b5d2-0383ab6f3b47",
   "metadata": {},
   "outputs": [],
   "source": [
    "plt.figure(figsize=(10, 6))\n",
    "sns.histplot(listings['price'], bins=50, kde=True)\n",
    "plt.title('Price Distribution of Listings (Before Outlier Removal)')\n",
    "plt.xlabel('Price')\n",
    "plt.ylabel('Frequency')\n",
    "plt.show()"
   ]
  },
  {
   "cell_type": "markdown",
   "id": "b7eaf63c-a257-4d2b-bdf1-9c294267f48c",
   "metadata": {},
   "source": [
    "### Remove Outliers for Better Insights"
   ]
  },
  {
   "cell_type": "code",
   "execution_count": null,
   "id": "18bb85c7-c0ed-4fe1-ab42-508de0bdbc88",
   "metadata": {},
   "outputs": [],
   "source": [
    "listings = listings[listings['price'] < listings['price'].quantile(0.95)]\n",
    "\n",
    "plt.figure(figsize=(10, 6))\n",
    "sns.histplot(listings['price'], bins=50, kde=True)\n",
    "plt.title('Price Distribution of Listings (After Outlier Removal)')\n",
    "plt.xlabel('Price')\n",
    "plt.ylabel('Frequency')\n",
    "plt.show()"
   ]
  },
  {
   "cell_type": "code",
   "execution_count": null,
   "id": "76e26878-4123-4e5e-a3b2-e762e96390e3",
   "metadata": {},
   "outputs": [],
   "source": [
    "plt.figure(figsize=(10, 6))\n",
    "sns.histplot(listings['price'], bins=50, kde=True)\n",
    "plt.title('Price Distribution of Listings')\n",
    "plt.xlabel('Price')\n",
    "plt.ylabel('Frequency')\n",
    "plt.show()"
   ]
  },
  {
   "cell_type": "markdown",
   "id": "beedadf7-1ebb-4a43-a94e-96d106ce65cf",
   "metadata": {},
   "source": [
    "### Room Type Distribution"
   ]
  },
  {
   "cell_type": "code",
   "execution_count": null,
   "id": "f5d0bf07-2802-402b-8a52-fe1abb9bbb72",
   "metadata": {},
   "outputs": [],
   "source": [
    "plt.figure(figsize=(8, 5))\n",
    "room_type_counts = listings['room_type'].value_counts()\n",
    "room_type_counts.plot(kind='bar', color='skyblue')\n",
    "plt.title('Room Type Distribution')\n",
    "plt.xlabel('Room Type')\n",
    "plt.ylabel('Count')\n",
    "plt.show()"
   ]
  },
  {
   "cell_type": "markdown",
   "id": "544572e3-9962-497d-a7e6-88da569a827e",
   "metadata": {},
   "source": [
    "### Calendar Dataset EDA"
   ]
  },
  {
   "cell_type": "code",
   "execution_count": null,
   "id": "81c7b37f-606b-498c-92c0-86b2c75dd0aa",
   "metadata": {},
   "outputs": [],
   "source": [
    "print(\"Calendar Dataset Summary:\")\n",
    "calendar.describe()"
   ]
  },
  {
   "cell_type": "markdown",
   "id": "09ad27e1-96e2-41fa-9c3c-a78ab75a98ee",
   "metadata": {},
   "source": [
    "### Availability Over Time"
   ]
  },
  {
   "cell_type": "code",
   "execution_count": null,
   "id": "8e3c465a-6a20-4b3e-80d7-747dcadaa9c6",
   "metadata": {},
   "outputs": [],
   "source": [
    "calendar['date'] = pd.to_datetime(calendar['date'])\n",
    "availability_over_time = calendar.groupby('date')['available'].mean()\n",
    "plt.figure(figsize=(12, 6))\n",
    "availability_over_time.plot()\n",
    "plt.title('Availability Over Time')\n",
    "plt.xlabel('Date')\n",
    "plt.ylabel('Proportion Available')\n",
    "plt.show()"
   ]
  },
  {
   "cell_type": "markdown",
   "id": "5272fa8d-c050-446d-b336-c0ffd60a10e8",
   "metadata": {},
   "source": [
    "### Reviews Dataset EDA"
   ]
  },
  {
   "cell_type": "code",
   "execution_count": null,
   "id": "bcbc5191-c314-4888-b073-37375be4601d",
   "metadata": {},
   "outputs": [],
   "source": [
    "print(\"Reviews Dataset Summary:\")\n",
    "reviews.describe()"
   ]
  },
  {
   "cell_type": "markdown",
   "id": "e8e6a69e-d584-4ff5-9e0c-096eec4a61f6",
   "metadata": {},
   "source": [
    "### Number of Reviews Over Time"
   ]
  },
  {
   "cell_type": "code",
   "execution_count": null,
   "id": "1d4ad455-0702-46b9-9284-d0b602825f83",
   "metadata": {},
   "outputs": [],
   "source": [
    "reviews['date'] = pd.to_datetime(reviews['date'])\n",
    "reviews_per_month = reviews.groupby(reviews['date'].dt.to_period('M')).size()\n",
    "plt.figure(figsize=(12, 6))\n",
    "reviews_per_month.plot()\n",
    "plt.title('Number of Reviews Over Time')\n",
    "plt.xlabel('Date')\n",
    "plt.ylabel('Number of Reviews')\n",
    "plt.show()\n",
    "\n",
    "print(\"Exploratory Data Analysis Completed.\")"
   ]
  },
  {
   "cell_type": "markdown",
   "id": "74fba598-3dea-437d-9020-37b0e1b5826f",
   "metadata": {
    "jp-MarkdownHeadingCollapsed": true
   },
   "source": [
    "## Step 3: Define Key Questions and Prepare Analysis"
   ]
  },
  {
   "cell_type": "code",
   "execution_count": null,
   "id": "6895c507-a6eb-4268-af43-918417e60e19",
   "metadata": {},
   "outputs": [],
   "source": []
  },
  {
   "cell_type": "markdown",
   "id": "fd671dbe-5744-40cb-a37d-cba6949e8514",
   "metadata": {},
   "source": [
    "### Question 1: What factors influence the price of a listing?"
   ]
  },
  {
   "cell_type": "code",
   "execution_count": null,
   "id": "e1f9c230-7d1f-4def-971b-d4df42bb2a05",
   "metadata": {},
   "outputs": [],
   "source": [
    "correlation_features = ['price', 'bedrooms', 'bathrooms', 'accommodates']\n",
    "correlation_matrix = listings[correlation_features].corr()\n",
    "\n",
    "plt.figure(figsize=(8, 6))\n",
    "sns.heatmap(correlation_matrix, annot=True, cmap='coolwarm', fmt='.2f')\n",
    "plt.title('Correlation Matrix of Features Influencing Price')\n",
    "plt.show()"
   ]
  },
  {
   "cell_type": "code",
   "execution_count": null,
   "id": "e4e78a74-cdc1-4db7-ab69-ae0c5704ed06",
   "metadata": {},
   "outputs": [],
   "source": []
  },
  {
   "cell_type": "markdown",
   "id": "fd3ebbd8-e14e-4eab-b913-c260e9a2003b",
   "metadata": {},
   "source": [
    "### Question 2: Are there seasonal trends in Airbnb bookings?"
   ]
  },
  {
   "cell_type": "code",
   "execution_count": null,
   "id": "c647c44f-bec8-41f0-be09-dfd90c556d29",
   "metadata": {},
   "outputs": [],
   "source": [
    "calendar['month'] = calendar['date'].dt.month\n",
    "monthly_availability = calendar.groupby('month')['available'].mean()\n",
    "\n",
    "plt.figure(figsize=(10, 6))\n",
    "monthly_availability.plot(kind='bar', color='orange')\n",
    "plt.title('Average Availability by Month')\n",
    "plt.xlabel('Month')\n",
    "plt.ylabel('Average Availability')\n",
    "plt.show()"
   ]
  },
  {
   "cell_type": "code",
   "execution_count": null,
   "id": "8899b956-6cc7-479a-8c77-11c8c510efd4",
   "metadata": {},
   "outputs": [],
   "source": []
  },
  {
   "cell_type": "markdown",
   "id": "928daba4-b6d2-437d-8edc-8fd45822de90",
   "metadata": {},
   "source": [
    "### Question 3: How do customer reviews impact a listing's success?"
   ]
  },
  {
   "cell_type": "code",
   "execution_count": null,
   "id": "8370526d-62be-4ffc-8fb8-ca9d4696c3d7",
   "metadata": {},
   "outputs": [],
   "source": [
    "reviews_per_listing = reviews.groupby('listing_id').size()\n",
    "listings['total_reviews'] = listings['id'].map(reviews_per_listing)\n",
    "\n",
    "plt.figure(figsize=(10, 6))\n",
    "sns.scatterplot(data=listings, x='total_reviews', y='review_scores_rating', alpha=0.6)\n",
    "plt.title('Relationship Between Total Reviews and Review Scores')\n",
    "plt.xlabel('Total Reviews')\n",
    "plt.ylabel('Review Scores Rating')\n",
    "plt.show()\n",
    "\n",
    "print(\"Key questions analyzed and visualized.\")"
   ]
  },
  {
   "cell_type": "markdown",
   "id": "f8de0147-b7a6-4edc-990d-5d3d1ce118d3",
   "metadata": {
    "jp-MarkdownHeadingCollapsed": true
   },
   "source": [
    "## Step 4: Evaluate Results and Generate Insights"
   ]
  },
  {
   "cell_type": "code",
   "execution_count": null,
   "id": "a58c7438-1ddd-49ea-8b71-f1f8b7df8072",
   "metadata": {},
   "outputs": [],
   "source": []
  },
  {
   "cell_type": "markdown",
   "id": "aa6a48ef-6a3a-4be9-bd2c-ee7dce4ad574",
   "metadata": {},
   "source": [
    "### Evaluation for Question 1"
   ]
  },
  {
   "cell_type": "code",
   "execution_count": null,
   "id": "18e214d0-515e-4e65-8b2f-6d69d739617f",
   "metadata": {},
   "outputs": [],
   "source": [
    "print(\"\\nEvaluation for Question 1:\")\n",
    "print(\"Correlation Matrix:\")\n",
    "correlation_matrix"
   ]
  },
  {
   "cell_type": "markdown",
   "id": "4346c9fd-192e-4faa-b549-397d1c826191",
   "metadata": {},
   "source": [
    "### Evaluation for Question 2"
   ]
  },
  {
   "cell_type": "code",
   "execution_count": null,
   "id": "730b6eb9-d3bd-4adf-a009-1c6a98d9d783",
   "metadata": {},
   "outputs": [],
   "source": [
    "print(\"\\nEvaluation for Question 2:\")\n",
    "seasonal_trends = monthly_availability.describe()\n",
    "print(\"Monthly Availability Summary:\")\n",
    "seasonal_trends"
   ]
  },
  {
   "cell_type": "markdown",
   "id": "14d000f6-e16e-4b1c-8f2c-ac79fa55df71",
   "metadata": {},
   "source": [
    "### Evaluation for Question 3"
   ]
  },
  {
   "cell_type": "code",
   "execution_count": null,
   "id": "477dc7c9-cc4d-40a1-94c3-057ad2ec8864",
   "metadata": {},
   "outputs": [],
   "source": [
    "print(\"\\nEvaluation for Question 3:\")\n",
    "review_stats = listings[['total_reviews', 'review_scores_rating']].describe()\n",
    "print(\"Review Statistics:\")\n",
    "review_stats"
   ]
  },
  {
   "cell_type": "code",
   "execution_count": null,
   "id": "55e64247-1a25-4f79-b6e5-1db8a09cae1e",
   "metadata": {},
   "outputs": [],
   "source": []
  },
  {
   "cell_type": "code",
   "execution_count": null,
   "id": "7e15424b-95f4-43f1-b41d-f90635b39976",
   "metadata": {},
   "outputs": [],
   "source": [
    "insights = \"\"\"\n",
    "Key Insights:\n",
    "1. Price is moderately correlated with the number of bedrooms and accommodates capacity, indicating larger properties tend to be more expensive.\n",
    "2. Seasonal trends show lower availability in peak months, suggesting higher demand.\n",
    "3. Listings with more reviews generally maintain higher review scores, but additional factors such as amenities and neighborhood also play a role.\n",
    "4. Hosts can focus on improving property features like amenities to increase listing appeal.\n",
    "\"\"\"\n",
    "print(insights)\n"
   ]
  },
  {
   "cell_type": "markdown",
   "id": "214fa2e4-f20b-4dd1-b63d-eec38e21b94f",
   "metadata": {
    "jp-MarkdownHeadingCollapsed": true
   },
   "source": [
    "## Step 5: Share Findings with Stakeholders"
   ]
  },
  {
   "cell_type": "code",
   "execution_count": null,
   "id": "9a2eb591-e8f4-4f68-9547-163ceec79c71",
   "metadata": {},
   "outputs": [],
   "source": []
  },
  {
   "cell_type": "markdown",
   "id": "7cc527ef-b4f0-4281-aeb5-81aa6562e91d",
   "metadata": {},
   "source": [
    "### Create README for GitHub"
   ]
  },
  {
   "cell_type": "code",
   "execution_count": null,
   "id": "b2415e72-4707-4f81-9763-886d0f131f35",
   "metadata": {},
   "outputs": [],
   "source": [
    "readme_content = \"\"\"\n",
    "# Airbnb Seattle Data Analysis\n",
    "\n",
    "## Project Overview\n",
    "This project analyzes Airbnb listings, calendar data, and reviews from Seattle to uncover trends and insights that can aid stakeholders in making informed decisions.\n",
    "\n",
    "### Key Questions Answered:\n",
    "1. What factors influence the price of a listing?\n",
    "2. Are there seasonal trends in Airbnb bookings?\n",
    "3. How do customer reviews impact a listing's success?\n",
    "\n",
    "### Insights:\n",
    "- Larger properties (more bedrooms and accommodates capacity) are more expensive.\n",
    "- Seasonal demand peaks lead to lower availability.\n",
    "- Listings with more reviews generally have higher review scores, but exceptions exist.\n",
    "\n",
    "### Repository Structure:\n",
    "- `listings_cleaned.csv`: Cleaned data for listings.\n",
    "- `calendar_cleaned.csv`: Cleaned calendar data.\n",
    "- `reviews_cleaned.csv`: Cleaned reviews data.\n",
    "- Analysis scripts and saved visualizations (e.g., `price_distribution.png`, `availability_over_time.png`).\n",
    "\n",
    "### Visualizations:\n",
    "Visualizations are saved as PNG files for easy reference.\n",
    "\n",
    "### Tools Used:\n",
    "- Python (pandas, matplotlib, seaborn)\n",
    "\n",
    "## Blog Post\n",
    "For a non-technical summary, refer to the blog post: [Link to Blog Post]\n",
    "\n",
    "\"\"\"\n",
    "print(readme_content)"
   ]
  },
  {
   "cell_type": "markdown",
   "id": "06cf8312-8a2a-4862-ac46-43217bbd2e2d",
   "metadata": {
    "jp-MarkdownHeadingCollapsed": true
   },
   "source": [
    "## Step 6: Blog Post Creation"
   ]
  },
  {
   "cell_type": "code",
   "execution_count": null,
   "id": "02bffddd-c2f4-48e2-8b07-2397661b1f50",
   "metadata": {},
   "outputs": [],
   "source": [
    "blog_post_content = \"\"\"\n",
    "# Unlocking Insights from Seattle's Airbnb Data\n",
    "\n",
    "## Introduction\n",
    "Seattle's Airbnb landscape provides a wealth of data to explore. This project dives into the listings, calendar, and reviews datasets to uncover trends that matter for hosts, guests, and policymakers.\n",
    "\n",
    "### Key Questions Explored:\n",
    "1. What factors influence the price of a listing?\n",
    "2. Are there seasonal trends in Airbnb bookings?\n",
    "3. How do customer reviews impact a listing's success?\n",
    "\n",
    "## Insights\n",
    "- **Price Factors**: Larger properties with more bedrooms and higher accommodate capacities are priced higher, but review scores also play a role.\n",
    "- **Seasonal Trends**: Availability decreases during peak tourist months, reflecting higher demand.\n",
    "- **Customer Reviews**: Listings with more reviews tend to have higher scores, showcasing the importance of guest satisfaction.\n",
    "\n",
    "## Visual Highlights\n",
    "1. **Price Distribution**\n",
    "   ![Price Distribution](price_distribution.png)\n",
    "2. **Monthly Availability**\n",
    "   ![Monthly Availability](monthly_availability.png)\n",
    "3. **Reviews vs. Scores**\n",
    "   ![Reviews vs. Scores](reviews_vs_scores.png)\n",
    "\n",
    "## Conclusion\n",
    "This analysis provides actionable insights for hosts to optimize their listings and for guests to make informed choices. By understanding these trends, stakeholders can better navigate Seattle's Airbnb market.\n",
    "\n",
    "[Explore the full analysis on GitHub](Link-to-GitHub-Repo)\n",
    "\"\"\"\n",
    "print(blog_post_content)"
   ]
  }
 ],
 "metadata": {
  "kernelspec": {
   "display_name": "Python 3",
   "language": "python",
   "name": "python3"
  },
  "language_info": {
   "codemirror_mode": {
    "name": "ipython",
    "version": 3
   },
   "file_extension": ".py",
   "mimetype": "text/x-python",
   "name": "python",
   "nbconvert_exporter": "python",
   "pygments_lexer": "ipython3",
   "version": "3.11.3"
  }
 },
 "nbformat": 4,
 "nbformat_minor": 5
}
